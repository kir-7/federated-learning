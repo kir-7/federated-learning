{
  "nbformat": 4,
  "nbformat_minor": 0,
  "metadata": {
    "colab": {
      "provenance": [],
      "gpuType": "T4"
    },
    "kernelspec": {
      "name": "python3",
      "display_name": "Python 3"
    },
    "language_info": {
      "name": "python"
    },
    "accelerator": "GPU",
    "widgets": {
      "application/vnd.jupyter.widget-state+json": {
        "eb4353c2c1174be6acf1e9283fd14b7e": {
          "model_module": "@jupyter-widgets/controls",
          "model_name": "HBoxModel",
          "model_module_version": "1.5.0",
          "state": {
            "_dom_classes": [],
            "_model_module": "@jupyter-widgets/controls",
            "_model_module_version": "1.5.0",
            "_model_name": "HBoxModel",
            "_view_count": null,
            "_view_module": "@jupyter-widgets/controls",
            "_view_module_version": "1.5.0",
            "_view_name": "HBoxView",
            "box_style": "",
            "children": [
              "IPY_MODEL_790fc3df4fa44815a5f080f78cd35c2b",
              "IPY_MODEL_fdccdb0896534163b8299d19e6d3e7a6",
              "IPY_MODEL_a381dfcb7b2746c2806c73302c8ae60b"
            ],
            "layout": "IPY_MODEL_7cd112e549534ccb81fdda2f19d58e90"
          }
        },
        "790fc3df4fa44815a5f080f78cd35c2b": {
          "model_module": "@jupyter-widgets/controls",
          "model_name": "HTMLModel",
          "model_module_version": "1.5.0",
          "state": {
            "_dom_classes": [],
            "_model_module": "@jupyter-widgets/controls",
            "_model_module_version": "1.5.0",
            "_model_name": "HTMLModel",
            "_view_count": null,
            "_view_module": "@jupyter-widgets/controls",
            "_view_module_version": "1.5.0",
            "_view_name": "HTMLView",
            "description": "",
            "description_tooltip": null,
            "layout": "IPY_MODEL_55ea45af6057433b9882ea314357fa6f",
            "placeholder": "​",
            "style": "IPY_MODEL_711f0876899945c3bf0c90916228611e",
            "value": "100%"
          }
        },
        "fdccdb0896534163b8299d19e6d3e7a6": {
          "model_module": "@jupyter-widgets/controls",
          "model_name": "FloatProgressModel",
          "model_module_version": "1.5.0",
          "state": {
            "_dom_classes": [],
            "_model_module": "@jupyter-widgets/controls",
            "_model_module_version": "1.5.0",
            "_model_name": "FloatProgressModel",
            "_view_count": null,
            "_view_module": "@jupyter-widgets/controls",
            "_view_module_version": "1.5.0",
            "_view_name": "ProgressView",
            "bar_style": "success",
            "description": "",
            "description_tooltip": null,
            "layout": "IPY_MODEL_aac77b114b874a1db1fafeb01f4ce30e",
            "max": 10,
            "min": 0,
            "orientation": "horizontal",
            "style": "IPY_MODEL_b7922e0255f24595a9c33e9075647cf1",
            "value": 10
          }
        },
        "a381dfcb7b2746c2806c73302c8ae60b": {
          "model_module": "@jupyter-widgets/controls",
          "model_name": "HTMLModel",
          "model_module_version": "1.5.0",
          "state": {
            "_dom_classes": [],
            "_model_module": "@jupyter-widgets/controls",
            "_model_module_version": "1.5.0",
            "_model_name": "HTMLModel",
            "_view_count": null,
            "_view_module": "@jupyter-widgets/controls",
            "_view_module_version": "1.5.0",
            "_view_name": "HTMLView",
            "description": "",
            "description_tooltip": null,
            "layout": "IPY_MODEL_0bbaf1d4f3d5440d8e763c4a3d8902a0",
            "placeholder": "​",
            "style": "IPY_MODEL_ce1421d237364417b190b2a612bc305f",
            "value": " 10/10 [04:16&lt;00:00, 25.50s/it]"
          }
        },
        "7cd112e549534ccb81fdda2f19d58e90": {
          "model_module": "@jupyter-widgets/base",
          "model_name": "LayoutModel",
          "model_module_version": "1.2.0",
          "state": {
            "_model_module": "@jupyter-widgets/base",
            "_model_module_version": "1.2.0",
            "_model_name": "LayoutModel",
            "_view_count": null,
            "_view_module": "@jupyter-widgets/base",
            "_view_module_version": "1.2.0",
            "_view_name": "LayoutView",
            "align_content": null,
            "align_items": null,
            "align_self": null,
            "border": null,
            "bottom": null,
            "display": null,
            "flex": null,
            "flex_flow": null,
            "grid_area": null,
            "grid_auto_columns": null,
            "grid_auto_flow": null,
            "grid_auto_rows": null,
            "grid_column": null,
            "grid_gap": null,
            "grid_row": null,
            "grid_template_areas": null,
            "grid_template_columns": null,
            "grid_template_rows": null,
            "height": null,
            "justify_content": null,
            "justify_items": null,
            "left": null,
            "margin": null,
            "max_height": null,
            "max_width": null,
            "min_height": null,
            "min_width": null,
            "object_fit": null,
            "object_position": null,
            "order": null,
            "overflow": null,
            "overflow_x": null,
            "overflow_y": null,
            "padding": null,
            "right": null,
            "top": null,
            "visibility": null,
            "width": null
          }
        },
        "55ea45af6057433b9882ea314357fa6f": {
          "model_module": "@jupyter-widgets/base",
          "model_name": "LayoutModel",
          "model_module_version": "1.2.0",
          "state": {
            "_model_module": "@jupyter-widgets/base",
            "_model_module_version": "1.2.0",
            "_model_name": "LayoutModel",
            "_view_count": null,
            "_view_module": "@jupyter-widgets/base",
            "_view_module_version": "1.2.0",
            "_view_name": "LayoutView",
            "align_content": null,
            "align_items": null,
            "align_self": null,
            "border": null,
            "bottom": null,
            "display": null,
            "flex": null,
            "flex_flow": null,
            "grid_area": null,
            "grid_auto_columns": null,
            "grid_auto_flow": null,
            "grid_auto_rows": null,
            "grid_column": null,
            "grid_gap": null,
            "grid_row": null,
            "grid_template_areas": null,
            "grid_template_columns": null,
            "grid_template_rows": null,
            "height": null,
            "justify_content": null,
            "justify_items": null,
            "left": null,
            "margin": null,
            "max_height": null,
            "max_width": null,
            "min_height": null,
            "min_width": null,
            "object_fit": null,
            "object_position": null,
            "order": null,
            "overflow": null,
            "overflow_x": null,
            "overflow_y": null,
            "padding": null,
            "right": null,
            "top": null,
            "visibility": null,
            "width": null
          }
        },
        "711f0876899945c3bf0c90916228611e": {
          "model_module": "@jupyter-widgets/controls",
          "model_name": "DescriptionStyleModel",
          "model_module_version": "1.5.0",
          "state": {
            "_model_module": "@jupyter-widgets/controls",
            "_model_module_version": "1.5.0",
            "_model_name": "DescriptionStyleModel",
            "_view_count": null,
            "_view_module": "@jupyter-widgets/base",
            "_view_module_version": "1.2.0",
            "_view_name": "StyleView",
            "description_width": ""
          }
        },
        "aac77b114b874a1db1fafeb01f4ce30e": {
          "model_module": "@jupyter-widgets/base",
          "model_name": "LayoutModel",
          "model_module_version": "1.2.0",
          "state": {
            "_model_module": "@jupyter-widgets/base",
            "_model_module_version": "1.2.0",
            "_model_name": "LayoutModel",
            "_view_count": null,
            "_view_module": "@jupyter-widgets/base",
            "_view_module_version": "1.2.0",
            "_view_name": "LayoutView",
            "align_content": null,
            "align_items": null,
            "align_self": null,
            "border": null,
            "bottom": null,
            "display": null,
            "flex": null,
            "flex_flow": null,
            "grid_area": null,
            "grid_auto_columns": null,
            "grid_auto_flow": null,
            "grid_auto_rows": null,
            "grid_column": null,
            "grid_gap": null,
            "grid_row": null,
            "grid_template_areas": null,
            "grid_template_columns": null,
            "grid_template_rows": null,
            "height": null,
            "justify_content": null,
            "justify_items": null,
            "left": null,
            "margin": null,
            "max_height": null,
            "max_width": null,
            "min_height": null,
            "min_width": null,
            "object_fit": null,
            "object_position": null,
            "order": null,
            "overflow": null,
            "overflow_x": null,
            "overflow_y": null,
            "padding": null,
            "right": null,
            "top": null,
            "visibility": null,
            "width": null
          }
        },
        "b7922e0255f24595a9c33e9075647cf1": {
          "model_module": "@jupyter-widgets/controls",
          "model_name": "ProgressStyleModel",
          "model_module_version": "1.5.0",
          "state": {
            "_model_module": "@jupyter-widgets/controls",
            "_model_module_version": "1.5.0",
            "_model_name": "ProgressStyleModel",
            "_view_count": null,
            "_view_module": "@jupyter-widgets/base",
            "_view_module_version": "1.2.0",
            "_view_name": "StyleView",
            "bar_color": null,
            "description_width": ""
          }
        },
        "0bbaf1d4f3d5440d8e763c4a3d8902a0": {
          "model_module": "@jupyter-widgets/base",
          "model_name": "LayoutModel",
          "model_module_version": "1.2.0",
          "state": {
            "_model_module": "@jupyter-widgets/base",
            "_model_module_version": "1.2.0",
            "_model_name": "LayoutModel",
            "_view_count": null,
            "_view_module": "@jupyter-widgets/base",
            "_view_module_version": "1.2.0",
            "_view_name": "LayoutView",
            "align_content": null,
            "align_items": null,
            "align_self": null,
            "border": null,
            "bottom": null,
            "display": null,
            "flex": null,
            "flex_flow": null,
            "grid_area": null,
            "grid_auto_columns": null,
            "grid_auto_flow": null,
            "grid_auto_rows": null,
            "grid_column": null,
            "grid_gap": null,
            "grid_row": null,
            "grid_template_areas": null,
            "grid_template_columns": null,
            "grid_template_rows": null,
            "height": null,
            "justify_content": null,
            "justify_items": null,
            "left": null,
            "margin": null,
            "max_height": null,
            "max_width": null,
            "min_height": null,
            "min_width": null,
            "object_fit": null,
            "object_position": null,
            "order": null,
            "overflow": null,
            "overflow_x": null,
            "overflow_y": null,
            "padding": null,
            "right": null,
            "top": null,
            "visibility": null,
            "width": null
          }
        },
        "ce1421d237364417b190b2a612bc305f": {
          "model_module": "@jupyter-widgets/controls",
          "model_name": "DescriptionStyleModel",
          "model_module_version": "1.5.0",
          "state": {
            "_model_module": "@jupyter-widgets/controls",
            "_model_module_version": "1.5.0",
            "_model_name": "DescriptionStyleModel",
            "_view_count": null,
            "_view_module": "@jupyter-widgets/base",
            "_view_module_version": "1.2.0",
            "_view_name": "StyleView",
            "description_width": ""
          }
        }
      }
    }
  },
  "cells": [
    {
      "cell_type": "markdown",
      "source": [
        "# BaseLine Centralized model"
      ],
      "metadata": {
        "id": "lofr9VF5UJqI"
      }
    },
    {
      "cell_type": "code",
      "execution_count": null,
      "metadata": {
        "id": "Upcd_2kbQT7H"
      },
      "outputs": [],
      "source": [
        "from tqdm.auto import tqdm\n",
        "import matplotlib.pyplot as plt\n",
        "\n",
        "import torch\n",
        "from torch.utils.data import DataLoader\n",
        "\n",
        "from utils import get_dataset, ARGS\n",
        "from update import test_inference\n",
        "from models import CNNMnist"
      ]
    },
    {
      "cell_type": "code",
      "source": [
        "\n",
        "args = ARGS(model='cnn', dataset='mnist', gpu=True)\n",
        "\n",
        "device = 'cuda' if args.gpu else 'cpu'\n",
        "\n",
        "# load datasets\n",
        "train_dataset, test_dataset, _ = get_dataset(args)"
      ],
      "metadata": {
        "id": "vaprWw2iQd8o",
        "colab": {
          "base_uri": "https://localhost:8080/"
        },
        "outputId": "7af375be-f0b7-4241-c86f-f242eb3c9ee4"
      },
      "execution_count": null,
      "outputs": [
        {
          "output_type": "stream",
          "name": "stderr",
          "text": [
            "100%|██████████| 9.91M/9.91M [00:00<00:00, 15.9MB/s]\n",
            "100%|██████████| 28.9k/28.9k [00:00<00:00, 475kB/s]\n",
            "100%|██████████| 1.65M/1.65M [00:00<00:00, 4.34MB/s]\n",
            "100%|██████████| 4.54k/4.54k [00:00<00:00, 7.90MB/s]\n"
          ]
        }
      ]
    },
    {
      "cell_type": "code",
      "source": [
        "# BUILD MODEL\n",
        "if args.model == 'cnn':\n",
        "    # Convolutional neural netork\n",
        "    if args.dataset == 'mnist':\n",
        "        global_model = CNNMnist(args=args)\n"
      ],
      "metadata": {
        "id": "TvHQSgQjR4Zw"
      },
      "execution_count": null,
      "outputs": []
    },
    {
      "cell_type": "code",
      "source": [
        "@torch.no_grad()\n",
        "def calc_accuracy(model, criterion, test_loader, device):\n",
        "\n",
        "    model.eval()\n",
        "    loss, total, correct = 0.0, 0.0, 0.0\n",
        "\n",
        "    for batch_idx, (images, labels) in enumerate(test_loader):\n",
        "        images, labels = images.to(device), labels.to(device)\n",
        "\n",
        "        # Inference\n",
        "        outputs = model(images)\n",
        "        batch_loss = criterion(outputs, labels)\n",
        "        loss += batch_loss.item()\n",
        "\n",
        "        # Prediction\n",
        "        _, pred_labels = torch.max(outputs, 1)\n",
        "        pred_labels = pred_labels.view(-1)\n",
        "        correct += torch.sum(torch.eq(pred_labels, labels)).item()\n",
        "        total += len(labels)\n",
        "\n",
        "    loss_avg = loss/len(testloader)\n",
        "\n",
        "    accuracy = correct/total\n",
        "    return accuracy, loss_avg"
      ],
      "metadata": {
        "id": "XW8n0c9r-j7m"
      },
      "execution_count": null,
      "outputs": []
    },
    {
      "cell_type": "code",
      "source": [
        "from math import e\n",
        "# Set the model to train and send it to device.\n",
        "global_model.to(device)\n",
        "global_model.train()\n",
        "print(global_model)\n",
        "\n",
        "\n",
        "# Training\n",
        "# Set optimizer and criterion\n",
        "optimizer = torch.optim.Adam(global_model.parameters(), lr=args.lr,\n",
        "                                    weight_decay=1e-4)\n",
        "\n",
        "testloader = DataLoader(test_dataset, batch_size=64, shuffle=False)\n",
        "trainloader = DataLoader(train_dataset, batch_size=64, shuffle=True)\n",
        "criterion = torch.nn.NLLLoss().to(device)\n",
        "epoch_loss = []\n",
        "test_losses = []\n",
        "accuracies = []\n",
        "\n",
        "\n",
        "for epoch in tqdm(range(args.epochs)):\n",
        "    batch_loss = []\n",
        "    global_model.train()\n",
        "    for batch_idx, (images, labels) in enumerate(trainloader):\n",
        "        images, labels = images.to(device), labels.to(device)\n",
        "\n",
        "        optimizer.zero_grad()\n",
        "        outputs = global_model(images)\n",
        "        loss = criterion(outputs, labels)\n",
        "        loss.backward()\n",
        "        optimizer.step()\n",
        "\n",
        "        if batch_idx % 250 == 0:\n",
        "            print('Train Epoch: {} [{}/{} ({:.0f}%)]\\tLoss: {:.6f}'.format(\n",
        "                epoch+1, batch_idx * len(images), len(trainloader.dataset),\n",
        "                100. * batch_idx / len(trainloader), loss.item()))\n",
        "        batch_loss.append(loss.item())\n",
        "\n",
        "    acc, test_loss = calc_accuracy(global_model, criterion, testloader, device)\n",
        "\n",
        "    loss_avg = sum(batch_loss)/len(batch_loss)\n",
        "    print('\\nTrain loss:', loss_avg)\n",
        "    print('\\nTest Loss:', test_loss)\n",
        "    print('\\nTest Accuracy:', acc)\n",
        "    epoch_loss.append(loss_avg)\n",
        "    accuracies.append(acc)\n",
        "    test_losses.append(test_loss)"
      ],
      "metadata": {
        "colab": {
          "base_uri": "https://localhost:8080/",
          "height": 833
        },
        "id": "P4cedD4nR-_v",
        "outputId": "89487b8c-1848-4af4-c2ec-e32c832a8e9c"
      },
      "execution_count": null,
      "outputs": [
        {
          "output_type": "stream",
          "name": "stdout",
          "text": [
            "Train Epoch: 6 [48000/60000 (80%)]\tLoss: 0.592490\n",
            "\n",
            "Train loss: 0.38832510296088546\n",
            "\n",
            "Test Loss: 0.11000917805062169\n",
            "\n",
            "Test Accuracy: 0.9669\n",
            "Train Epoch: 7 [0/60000 (0%)]\tLoss: 0.419071\n",
            "Train Epoch: 7 [16000/60000 (27%)]\tLoss: 0.268998\n",
            "Train Epoch: 7 [32000/60000 (53%)]\tLoss: 0.485226\n",
            "Train Epoch: 7 [48000/60000 (80%)]\tLoss: 0.182100\n",
            "\n",
            "Train loss: 0.3936161383239826\n",
            "\n",
            "Test Loss: 0.11259960572842945\n",
            "\n",
            "Test Accuracy: 0.9658\n",
            "Train Epoch: 8 [0/60000 (0%)]\tLoss: 0.491243\n",
            "Train Epoch: 8 [16000/60000 (27%)]\tLoss: 0.273377\n",
            "Train Epoch: 8 [32000/60000 (53%)]\tLoss: 0.437638\n",
            "Train Epoch: 8 [48000/60000 (80%)]\tLoss: 0.387625\n",
            "\n",
            "Train loss: 0.387505318945659\n",
            "\n",
            "Test Loss: 0.1317438178611949\n",
            "\n",
            "Test Accuracy: 0.959\n",
            "Train Epoch: 9 [0/60000 (0%)]\tLoss: 0.486931\n",
            "Train Epoch: 9 [16000/60000 (27%)]\tLoss: 0.641282\n",
            "Train Epoch: 9 [32000/60000 (53%)]\tLoss: 0.257350\n",
            "Train Epoch: 9 [48000/60000 (80%)]\tLoss: 0.945694\n",
            "\n",
            "Train loss: 0.38004411153320566\n",
            "\n",
            "Test Loss: 0.09841281119676583\n",
            "\n",
            "Test Accuracy: 0.97\n",
            "Train Epoch: 10 [0/60000 (0%)]\tLoss: 0.648308\n",
            "Train Epoch: 10 [16000/60000 (27%)]\tLoss: 0.843967\n",
            "Train Epoch: 10 [32000/60000 (53%)]\tLoss: 0.329548\n",
            "Train Epoch: 10 [48000/60000 (80%)]\tLoss: 0.293904\n",
            "\n",
            "Train loss: 0.38559027227447995\n",
            "\n",
            "Test Loss: 0.0946567723830453\n",
            "\n",
            "Test Accuracy: 0.9713\n"
          ]
        }
      ]
    },
    {
      "cell_type": "code",
      "source": [
        "calc_accuracy(global_model, criterion, trainloader, device)"
      ],
      "metadata": {
        "colab": {
          "base_uri": "https://localhost:8080/"
        },
        "id": "mNf92E6iJztt",
        "outputId": "2f76a8b6-6189-45c8-9cf7-723584852e58"
      },
      "execution_count": null,
      "outputs": [
        {
          "output_type": "execute_result",
          "data": {
            "text/plain": [
              "(0.9680833333333333, 0.6330035014172933)"
            ]
          },
          "metadata": {},
          "execution_count": 9
        }
      ]
    },
    {
      "cell_type": "code",
      "source": [
        "\n",
        "# Plot loss\n",
        "plt.figure()\n",
        "plt.title(\"Train Loss\")\n",
        "plt.plot(range(len(epoch_loss)), epoch_loss)\n",
        "plt.xlabel('epochs')\n",
        "plt.ylabel('Train loss')\n",
        "plt.savefig('/content/base_train_loss_{}_{}_{}.png'.format(args.dataset, args.model, args.epochs))\n",
        "\n",
        "plt.figure()\n",
        "plt.title(\"Accuracy\")\n",
        "plt.plot(range(len(accuracies)), accuracies)\n",
        "plt.xlabel('epochs')\n",
        "plt.ylabel('Accuracy loss')\n",
        "plt.savefig('/content/base_accuracy_{}_{}_{}.png'.format(args.dataset, args.model, args.epochs))\n",
        "\n",
        "\n",
        "plt.figure()\n",
        "plt.title(\"Test Loss\")\n",
        "plt.plot(range(len(test_losses)), test_losses)\n",
        "plt.xlabel('epochs')\n",
        "plt.ylabel('Test loss')\n",
        "plt.savefig('/content/base_test_loss_{}_{}_{}.png'.format(args.dataset, args.model, args.epochs))"
      ],
      "metadata": {
        "colab": {
          "base_uri": "https://localhost:8080/",
          "height": 1000
        },
        "id": "TIGW29oYS8Nk",
        "outputId": "28d34889-e8c9-4ab1-d154-65097cd340e3"
      },
      "execution_count": null,
      "outputs": [
        {
          "output_type": "display_data",
          "data": {
            "text/plain": [
              "<Figure size 640x480 with 1 Axes>"
            ],
            "image/png": "[encoded data removed]"
          },
          "metadata": {}
        },
        {
          "output_type": "display_data",
          "data": {
            "text/plain": [
              "<Figure size 640x480 with 1 Axes>"
            ],
            "image/png": "[encoded data removed]"
          },
          "metadata": {}
        },
        {
          "output_type": "display_data",
          "data": {
            "text/plain": [
              "<Figure size 640x480 with 1 Axes>"
            ],
            "image/png": "[encoded data removed]"
          },
          "metadata": {}
        }
      ]
    },
    {
      "cell_type": "code",
      "source": [
        "# testing\n",
        "test_acc, test_loss = test_inference(args, global_model, test_dataset)\n",
        "print('Test on', len(test_dataset), 'samples')\n",
        "print(\"Test Accuracy: {:.2f}%\".format(100*test_acc))"
      ],
      "metadata": {
        "colab": {
          "base_uri": "https://localhost:8080/"
        },
        "id": "9C3jPgV6T8Qz",
        "outputId": "b15a13ac-c666-4759-d31b-f2d5f0718bf2"
      },
      "execution_count": null,
      "outputs": [
        {
          "output_type": "stream",
          "name": "stdout",
          "text": [
            "Test on 10000 samples\n",
            "Test Accuracy: 97.13%\n"
          ]
        }
      ]
    },
    {
      "cell_type": "markdown",
      "source": [
        "# Federated model"
      ],
      "metadata": {
        "id": "wgS_jyOuUhGf"
      }
    },
    {
      "cell_type": "code",
      "source": [
        "import os\n",
        "import copy\n",
        "import time\n",
        "import pickle\n",
        "import numpy as np\n",
        "from tqdm.auto import tqdm\n",
        "\n",
        "import torch\n",
        "from update import LocalUpdate, test_inference\n",
        "from models import CNNMnist\n",
        "from utils import get_dataset, average_weights, exp_details, ARGS"
      ],
      "metadata": {
        "id": "rtxHljL4T-BR"
      },
      "execution_count": null,
      "outputs": []
    },
    {
      "cell_type": "code",
      "source": [
        "\n",
        "# define paths\n",
        "args = ARGS(model='cnn', dataset='mnist', gpu=True, iid=True)\n",
        "\n",
        "exp_details(args)\n",
        "\n",
        "device = 'cuda' if args.gpu else 'cpu'\n",
        "\n",
        "# load dataset and user groups\n",
        "train_dataset, test_dataset, user_groups = get_dataset(args)"
      ],
      "metadata": {
        "colab": {
          "base_uri": "https://localhost:8080/"
        },
        "id": "45j3TRnbU2Rv",
        "outputId": "780d24b7-106e-42ea-e10a-9d8fb8b75be2"
      },
      "execution_count": null,
      "outputs": [
        {
          "output_type": "stream",
          "name": "stdout",
          "text": [
            "\n",
            "Experimental details:\n",
            "    Model     : cnn\n",
            "    Optimizer : adam\n",
            "    Learning  : 0.01\n",
            "    Global Rounds   : 10\n",
            "\n",
            "    Federated parameters:\n",
            "    IID\n",
            "    Fraction of users  : 0.1\n",
            "    Local Batch size   : 10\n",
            "    Local Epochs       : 10\n",
            "\n"
          ]
        }
      ]
    },
    {
      "cell_type": "code",
      "source": [
        "# BUILD MODEL\n",
        "\n",
        "if args.model == 'cnn':\n",
        "    # Convolutional neural netork\n",
        "    if args.dataset == 'mnist':\n",
        "        global_model = CNNMnist(args=args)\n",
        "\n",
        "\n",
        "# Set the model to train and send it to device.\n",
        "global_model.to(device)\n",
        "global_model.train()\n",
        "print(global_model)\n"
      ],
      "metadata": {
        "colab": {
          "base_uri": "https://localhost:8080/"
        },
        "id": "cuGGh2a3VasV",
        "outputId": "e07c321a-78a1-47fa-8ffa-1c7a08bb8503"
      },
      "execution_count": null,
      "outputs": [
        {
          "output_type": "stream",
          "name": "stdout",
          "text": [
            "CNNMnist(\n",
            "  (conv1): Conv2d(1, 10, kernel_size=(5, 5), stride=(1, 1))\n",
            "  (conv2): Conv2d(10, 20, kernel_size=(5, 5), stride=(1, 1))\n",
            "  (conv2_drop): Dropout2d(p=0.5, inplace=False)\n",
            "  (fc1): Linear(in_features=320, out_features=50, bias=True)\n",
            "  (fc2): Linear(in_features=50, out_features=10, bias=True)\n",
            ")\n"
          ]
        }
      ]
    },
    {
      "cell_type": "code",
      "source": [
        "start_time = time.time()\n",
        "\n",
        "# copy weights\n",
        "global_weights = global_model.state_dict()\n",
        "\n",
        "# Training\n",
        "train_loss, train_accuracy = [], []\n",
        "val_acc_list, net_list = [], []\n",
        "cv_loss, cv_acc = [], []\n",
        "print_every = 2\n",
        "val_loss_pre, counter = 0, 0\n",
        "\n",
        "for epoch in tqdm(range(args.epochs)):\n",
        "    local_weights, local_losses = [], []\n",
        "    print(f'\\n | Global Training Round : {epoch+1} |\\n')\n",
        "\n",
        "    global_model.train()\n",
        "    m = max(int(args.frac * args.num_users), 1)\n",
        "    idxs_users = np.random.choice(range(args.num_users), m, replace=False)\n",
        "\n",
        "    for idx in idxs_users:\n",
        "        local_model = LocalUpdate(args=args, dataset=train_dataset,\n",
        "                                    idxs=user_groups[idx], logger=logger)\n",
        "        w, loss = local_model.update_weights(\n",
        "            model=copy.deepcopy(global_model), global_round=epoch)\n",
        "        local_weights.append(copy.deepcopy(w))\n",
        "        local_losses.append(copy.deepcopy(loss))\n",
        "\n",
        "    # update global weights\n",
        "    global_weights = average_weights(local_weights)\n",
        "\n",
        "    # update global weights\n",
        "    global_model.load_state_dict(global_weights)\n",
        "\n",
        "    loss_avg = sum(local_losses) / len(local_losses)\n",
        "    train_loss.append(loss_avg)\n",
        "\n",
        "    # Calculate avg training accuracy over all users at every epoch\n",
        "    list_acc, list_loss = [], []\n",
        "    global_model.eval()\n",
        "    for c in range(args.num_users):\n",
        "        local_model = LocalUpdate(args=args, dataset=train_dataset,\n",
        "                                    idxs=user_groups[idx], logger=logger)\n",
        "        acc, loss = local_model.inference(model=global_model)\n",
        "        list_acc.append(acc)\n",
        "        list_loss.append(loss)\n",
        "    train_accuracy.append(sum(list_acc)/len(list_acc))\n",
        "\n",
        "    # print global training loss after every 'i' rounds\n",
        "    if (epoch+1) % print_every == 0:\n",
        "        print(f' \\nAvg Training Stats after {epoch+1} global rounds:')\n",
        "        print(f'Training Loss : {np.mean(np.array(train_loss))}')\n",
        "        print('Train Accuracy: {:.2f}% \\n'.format(100*train_accuracy[-1]))\n",
        "\n",
        "# Test inference after completion of training\n",
        "test_acc, test_loss = test_inference(args, global_model, test_dataset)\n",
        "\n",
        "print(f' \\n Results after {args.epochs} global rounds of training:')\n",
        "print(\"|---- Avg Train Accuracy: {:.2f}%\".format(100*train_accuracy[-1]))\n",
        "print(\"|---- Test Accuracy: {:.2f}%\".format(100*test_acc))\n",
        "\n",
        "# Saving the objects train_loss and train_accuracy:\n",
        "file_name = '/content/{}_{}_{}_C[{}]_iid[{}]_E[{}]_B[{}].pkl'.\\\n",
        "    format(args.dataset, args.model, args.epochs, args.frac, args.iid,\n",
        "            args.local_ep, args.local_bs)\n",
        "\n",
        "with open(file_name, 'wb') as f:\n",
        "    pickle.dump([train_loss, train_accuracy], f)\n",
        "\n",
        "print('\\n Total Run Time: {0:0.4f}'.format(time.time()-start_time))"
      ],
      "metadata": {
        "colab": {
          "base_uri": "https://localhost:8080/",
          "height": 1000,
          "referenced_widgets": [
            "eb4353c2c1174be6acf1e9283fd14b7e",
            "790fc3df4fa44815a5f080f78cd35c2b",
            "fdccdb0896534163b8299d19e6d3e7a6",
            "a381dfcb7b2746c2806c73302c8ae60b",
            "7cd112e549534ccb81fdda2f19d58e90",
            "55ea45af6057433b9882ea314357fa6f",
            "711f0876899945c3bf0c90916228611e",
            "aac77b114b874a1db1fafeb01f4ce30e",
            "b7922e0255f24595a9c33e9075647cf1",
            "0bbaf1d4f3d5440d8e763c4a3d8902a0",
            "ce1421d237364417b190b2a612bc305f"
          ]
        },
        "id": "ryHfV3q0Wi4W",
        "outputId": "cc1059b9-6577-4879-b437-b5e6eff4937b"
      },
      "execution_count": null,
      "outputs": [
        {
          "output_type": "display_data",
          "data": {
            "text/plain": [
              "  0%|          | 0/10 [00:00<?, ?it/s]"
            ],
            "application/vnd.jupyter.widget-view+json": {
              "version_major": 2,
              "version_minor": 0,
              "model_id": "eb4353c2c1174be6acf1e9283fd14b7e"
            }
          },
          "metadata": {}
        },
        {
          "output_type": "stream",
          "name": "stdout",
          "text": [
            "\n",
            " | Global Training Round : 1 |\n",
            "\n"
          ]
        },
        {
          "output_type": "stream",
          "name": "stderr",
          "text": [
            "/content/update.py:19: UserWarning: To copy construct from a tensor, it is recommended to use sourceTensor.clone().detach() or sourceTensor.clone().detach().requires_grad_(True), rather than torch.tensor(sourceTensor).\n",
            "  return torch.tensor(image), torch.tensor(label)\n"
          ]
        },
        {
          "output_type": "stream",
          "name": "stdout",
          "text": [
            "\n",
            " | Global Training Round : 2 |\n",
            "\n",
            " \n",
            "Avg Training Stats after 2 global rounds:\n",
            "Training Loss : 1.457971326786889\n",
            "Train Accuracy: 15.00% \n",
            "\n",
            "\n",
            " | Global Training Round : 3 |\n",
            "\n",
            "\n",
            " | Global Training Round : 4 |\n",
            "\n",
            " \n",
            "Avg Training Stats after 4 global rounds:\n",
            "Training Loss : 1.1364660129909074\n",
            "Train Accuracy: 80.00% \n",
            "\n",
            "\n",
            " | Global Training Round : 5 |\n",
            "\n",
            "\n",
            " | Global Training Round : 6 |\n",
            "\n",
            " \n",
            "Avg Training Stats after 6 global rounds:\n",
            "Training Loss : 0.9606062201698014\n",
            "Train Accuracy: 93.33% \n",
            "\n",
            "\n",
            " | Global Training Round : 7 |\n",
            "\n",
            "\n",
            " | Global Training Round : 8 |\n",
            "\n",
            " \n",
            "Avg Training Stats after 8 global rounds:\n",
            "Training Loss : 0.8681583650207616\n",
            "Train Accuracy: 95.00% \n",
            "\n",
            "\n",
            " | Global Training Round : 9 |\n",
            "\n",
            "\n",
            " | Global Training Round : 10 |\n",
            "\n",
            " \n",
            "Avg Training Stats after 10 global rounds:\n",
            "Training Loss : 0.8137317035482056\n",
            "Train Accuracy: 88.33% \n",
            "\n",
            " \n",
            " Results after 10 global rounds of training:\n",
            "|---- Avg Train Accuracy: 88.33%\n",
            "|---- Test Accuracy: 92.28%\n",
            "\n",
            " Total Run Time: 257.8083\n"
          ]
        }
      ]
    },
    {
      "cell_type": "code",
      "source": [
        "test_acc, test_loss = test_inference(args, global_model, test_dataset)\n",
        "test_acc, test_loss"
      ],
      "metadata": {
        "id": "KD_guNDlL71J",
        "outputId": "80152133-270b-45ce-9a86-9581ae013ef6",
        "colab": {
          "base_uri": "https://localhost:8080/"
        }
      },
      "execution_count": null,
      "outputs": [
        {
          "output_type": "execute_result",
          "data": {
            "text/plain": [
              "(0.9228, 19.60200714878738)"
            ]
          },
          "metadata": {},
          "execution_count": 16
        }
      ]
    },
    {
      "cell_type": "code",
      "source": [
        "test_acc, test_loss = test_inference(args, global_model, test_dataset)\n",
        "\n",
        "print(f' \\n Results after {args.epochs} global rounds of training:')\n",
        "print(\"|---- Avg Train Accuracy: {:.2f}%\".format(100*train_accuracy[-1]))\n",
        "print(\"|---- Test Accuracy: {:.2f}%\".format(100*test_acc))\n"
      ],
      "metadata": {
        "colab": {
          "base_uri": "https://localhost:8080/"
        },
        "id": "RQITCXKh4uTk",
        "outputId": "ff2b65a9-0554-4897-dbbc-2ebff9137168"
      },
      "execution_count": null,
      "outputs": [
        {
          "output_type": "stream",
          "name": "stdout",
          "text": [
            " \n",
            " Results after 10 global rounds of training:\n",
            "|---- Avg Train Accuracy: 75.00%\n",
            "|---- Test Accuracy: 42.79%\n"
          ]
        }
      ]
    },
    {
      "cell_type": "code",
      "source": [
        "import matplotlib\n",
        "import matplotlib.pyplot as plt\n",
        "matplotlib.use('Agg')\n",
        "\n",
        "plt.figure()\n",
        "plt.title('Training Loss vs Communication rounds')\n",
        "plt.plot(range(len(train_loss)), train_loss, color='r')\n",
        "plt.ylabel('Training loss')\n",
        "plt.xlabel('Communication Rounds')\n",
        "plt.show()\n",
        "plt.savefig('/content/fed_{}_{}_{}_C[{}]_iid[{}]_E[{}]_B[{}]_loss.png'.format(args.dataset, args.model, args.epochs, args.frac,args.iid, args.local_ep, args.local_bs))\n",
        "\n",
        "# Plot Average Accuracy vs Communication rounds\n",
        "plt.figure()\n",
        "plt.title('Average Accuracy vs Communication rounds')\n",
        "plt.plot(range(len(train_accuracy)), train_accuracy, color='k')\n",
        "plt.ylabel('Average Accuracy')\n",
        "plt.xlabel('Communication Rounds')\n",
        "plt.show()\n",
        "plt.savefig('/content/fed_{}_{}_{}_C[{}]_iid[{}]_E[{}]_B[{}]_acc.png'.format(args.dataset, args.model, args.epochs, args.frac,args.iid, args.local_ep, args.local_bs))"
      ],
      "metadata": {
        "id": "77jJwsEWYIYl"
      },
      "execution_count": null,
      "outputs": []
    },
    {
      "cell_type": "code",
      "source": [],
      "metadata": {
        "id": "4Ktba0rCbI4c"
      },
      "execution_count": null,
      "outputs": []
    }
  ]
}